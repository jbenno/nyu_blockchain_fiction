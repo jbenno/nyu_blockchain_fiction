{
 "cells": [
  {
   "cell_type": "code",
   "execution_count": 26,
   "metadata": {},
   "outputs": [
    {
     "name": "stdout",
     "output_type": "stream",
     "text": [
      "String:  Hello World!  Nonce:  4250\n",
      "\n",
      "\n",
      "Sha256 in Hex:   002f72cce9ba77f388bca4165791d4cf92c69b84fa5c5f6de2781b3365e632e7\n",
      "... in decimal:  8.383414e+73\n",
      "\n",
      "\n",
      "... in Bin:\n",
      "000000000b101111011100101100110011101001101110100111011111110011100010001011110010100100000101100101011110010001110101001100111110010010110001101001101110000100111110100101110001011111011011011110001001111000000110110011001101100101111001100011001011100111\n"
     ]
    }
   ],
   "source": [
    "'''\n",
    "Demo for hashes and nonces\n",
    "'''\n",
    "\n",
    "import hashlib\n",
    "\n",
    "inputStr = \"Hello World!\"\n",
    "nonce = \"4250\"\n",
    "\n",
    "testStr = inputStr + nonce\n",
    "testBytes = bytes(testStr, 'utf-8')\n",
    "hHex = hashlib.sha256(testBytes).hexdigest()\n",
    "\n",
    "print (\"String: \", inputStr, \" Nonce: \", nonce)\n",
    "print (\"\\n\")\n",
    "print (\"Sha256 in Hex:  \", hHex)\n",
    "print (\"... in decimal: \", \"{:e}\".format(int(hHex,16)))\n",
    "h = int(hHex,16)\n",
    "res = bin(h).zfill(256)\n",
    "print (\"\\n\")\n",
    "print (\"... in Bin:\")\n",
    "print (res)"
   ]
  },
  {
   "cell_type": "code",
   "execution_count": 25,
   "metadata": {
    "scrolled": true
   },
   "outputs": [
    {
     "name": "stdout",
     "output_type": "stream",
     "text": [
      "No. of iterations:  14461\n",
      "The successful nonce:  KCh3t2fN4DOOsceU8AAdpsY5k9uSgKToYKDbVXqJyM4\n",
      "\n",
      "\n",
      "Sha256:  1007214656768920295862687587597158018642132272751150226855778852888475417\n",
      " =  1.007215e+72\n",
      "\n",
      "\n",
      "... in Bin:\n",
      "000000000000000b100100011110111110101011000000100000001111011101100111101001001011100011100101000110010010000101000011101101111000110010001100111110001000100101001010111101110011101001111111101011010010010011000000101010111000101011101111010111011100011001\n"
     ]
    }
   ],
   "source": [
    "'''\n",
    "Demo for hashcash as used in the Bitcoin blockchain.\n",
    "'''\n",
    "\n",
    "import hashlib\n",
    "import secrets\n",
    " \n",
    "filename = \"/Users/jbenno/temp/email.html\" #input(\" \")\n",
    "with open(filename,\"rb\") as f:\n",
    "    inputBytes = f.read() # read entire file as bytes\n",
    "\n",
    "h = int(hashlib.sha256(inputBytes).hexdigest(),16)\n",
    "difficulty = 2**256\n",
    "i = 0\n",
    "\n",
    "while h > difficulty:\n",
    "    nonce = secrets.token_urlsafe(32)\n",
    "    nonceBytes = bytes(nonce, 'utf-8')\n",
    "    testBytes = inputBytes + nonceBytes\n",
    "    h = int(hashlib.sha256(testBytes).hexdigest(),16)\n",
    "    i = i + 1\n",
    "    \n",
    "print (\"No. of iterations: \", i)\n",
    "print (\"The successful nonce: \", nonce)\n",
    "print (\"\\n\")\n",
    "print (\"Sha256: \", h)\n",
    "print (\" = \", \"{:e}\".format(h))\n",
    "res = bin(h).zfill(256)\n",
    "print (\"\\n\")\n",
    "print (\"... in Bin:\")\n",
    "print (res)"
   ]
  },
  {
   "cell_type": "code",
   "execution_count": null,
   "metadata": {},
   "outputs": [],
   "source": []
  },
  {
   "cell_type": "code",
   "execution_count": null,
   "metadata": {},
   "outputs": [],
   "source": []
  },
  {
   "cell_type": "code",
   "execution_count": 6,
   "metadata": {},
   "outputs": [
    {
     "name": "stdout",
     "output_type": "stream",
     "text": [
      "Initial string 00000000000000000000984ba8eeba0d95c4493c441773d24f34af5d6deab8ce\n",
      "Resultant string 0000000000000000000000000000000000000000000000000000000000000000000000000000000b10011000010010111010100011101110101110100000110110010101110001000100100100111100010001000001011101110011110100100100111100110100101011110101110101101101111010101011100011001110\n"
     ]
    }
   ],
   "source": [
    "# Python code to demonstrate \n",
    "# conversion of a hex string\n",
    "# to the binary string\n",
    "  \n",
    "# Initialising hex string\n",
    "ini_string = \"00000000000000000000984ba8eeba0d95c4493c441773d24f34af5d6deab8ce\"\n",
    "scale = 16\n",
    "  \n",
    "# Printing initial string\n",
    "print (\"Initial string\", ini_string)\n",
    "  \n",
    "# Code to convert hex to binary\n",
    "res = bin(int(ini_string, scale)).zfill(256)\n",
    "  \n",
    "# Print the resultant string\n",
    "print (\"Resultant string\", str(res))\n",
    "00000000000000000000 00000000000000000000 00000000000000000000 0000000000000000000"
   ]
  },
  {
   "cell_type": "code",
   "execution_count": null,
   "metadata": {},
   "outputs": [],
   "source": []
  }
 ],
 "metadata": {
  "kernelspec": {
   "display_name": "Python 3",
   "language": "python",
   "name": "python3"
  },
  "language_info": {
   "codemirror_mode": {
    "name": "ipython",
    "version": 3
   },
   "file_extension": ".py",
   "mimetype": "text/x-python",
   "name": "python",
   "nbconvert_exporter": "python",
   "pygments_lexer": "ipython3",
   "version": "3.7.4"
  }
 },
 "nbformat": 4,
 "nbformat_minor": 2
}
